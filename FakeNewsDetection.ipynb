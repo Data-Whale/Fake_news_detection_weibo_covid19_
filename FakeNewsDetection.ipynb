{
 "cells": [
  {
   "cell_type": "code",
   "execution_count": 2,
   "metadata": {},
   "outputs": [],
   "source": [
    "import numpy as np\n",
    "import pandas as pd\n",
    "import tensorflow as tf\n",
    "from tensorflow import keras\n",
    "import matplotlib.pyplot as plt\n",
    "import os\n",
    "from sklearn.model_selection import train_test_split\n",
    "import jieba\n",
    "import re"
   ]
  },
  {
   "cell_type": "code",
   "execution_count": 7,
   "metadata": {},
   "outputs": [],
   "source": [
    "train=pd.read_csv('data/train.csv')\n",
    "test=pd.read_csv('data/test_dataset.csv')"
   ]
  },
  {
   "cell_type": "code",
   "execution_count": 8,
   "metadata": {},
   "outputs": [],
   "source": [
    "def seg_words(text):\n",
    "    #去掉不在(所有中文、大小写字母、数字)中的非法字符\n",
    "    regex = re.compile(r'[^\\u4e00-\\u9fa5A-Za-z0-9]')\n",
    "    text = regex.sub(' ', text) # 将非法字符用‘ ’替代\n",
    "    text = text.strip() # 去掉前后的空格\n",
    "    word_list = jieba.cut(text, cut_all= False)\n",
    "    return word_list"
   ]
  },
  {
   "cell_type": "code",
   "execution_count": 9,
   "metadata": {},
   "outputs": [
    {
     "name": "stderr",
     "output_type": "stream",
     "text": [
      "Building prefix dict from the default dictionary ...\n",
      "Dumping model to file cache /var/folders/j3/8hf614ps7xx_nl_knd25th4r0000gn/T/jieba.cache\n",
      "Loading model cost 0.840 seconds.\n",
      "Prefix dict has been built successfully.\n"
     ]
    },
    {
     "data": {
      "text/html": [
       "<div>\n",
       "<style scoped>\n",
       "    .dataframe tbody tr th:only-of-type {\n",
       "        vertical-align: middle;\n",
       "    }\n",
       "\n",
       "    .dataframe tbody tr th {\n",
       "        vertical-align: top;\n",
       "    }\n",
       "\n",
       "    .dataframe thead th {\n",
       "        text-align: right;\n",
       "    }\n",
       "</style>\n",
       "<table border=\"1\" class=\"dataframe\">\n",
       "  <thead>\n",
       "    <tr style=\"text-align: right;\">\n",
       "      <th></th>\n",
       "      <th>content</th>\n",
       "      <th>content_seg</th>\n",
       "    </tr>\n",
       "  </thead>\n",
       "  <tbody>\n",
       "    <tr>\n",
       "      <th>0</th>\n",
       "      <td>回复新浪网友对博文【国家文物局限制鉴宝节目现场估价转】的评论：;;查看原文：</td>\n",
       "      <td>回复 新浪 网友 对 博文   国家文物局 限制 鉴宝 节目 现场 估价 转   的 评论 ...</td>\n",
       "    </tr>\n",
       "    <tr>\n",
       "      <th>1</th>\n",
       "      <td>//分享网易新闻:《发生在昆明的火锅店老板“辱滇门”，云南人该愤怒还是羞愧》|发生在昆明.....</td>\n",
       "      <td>分享 网易 新闻     发生 在 昆明 的 火锅店 老板   辱 滇门     云南 人该...</td>\n",
       "    </tr>\n",
       "    <tr>\n",
       "      <th>2</th>\n",
       "      <td>西宁城管围殴民警扬言要把警察打死|西宁城管围...</td>\n",
       "      <td>西宁 城管 围殴 民警 扬言 要 把 警察 打死   西宁 城管 围</td>\n",
       "    </tr>\n",
       "    <tr>\n",
       "      <th>3</th>\n",
       "      <td>【川航航班因驾驶舱风挡破裂安全备降成都】今天上午6:26从重庆江北国际机场出发前往拉萨的四川...</td>\n",
       "      <td>川航 航班 因 驾驶舱 风挡 破裂 安全 备降 成都   今天上午 6   26 从 重庆江...</td>\n",
       "    </tr>\n",
       "    <tr>\n",
       "      <th>4</th>\n",
       "      <td>支持郑强！！！//【贵州大学校长回应空姐言论:常给她们写感谢信】</td>\n",
       "      <td>支持 郑强             贵州大学 校长 回应 空姐 言论   常给 她们 写 感谢信</td>\n",
       "    </tr>\n",
       "  </tbody>\n",
       "</table>\n",
       "</div>"
      ],
      "text/plain": [
       "                                             content  \\\n",
       "0             回复新浪网友对博文【国家文物局限制鉴宝节目现场估价转】的评论：;;查看原文：   \n",
       "1  //分享网易新闻:《发生在昆明的火锅店老板“辱滇门”，云南人该愤怒还是羞愧》|发生在昆明.....   \n",
       "2                          西宁城管围殴民警扬言要把警察打死|西宁城管围...   \n",
       "3  【川航航班因驾驶舱风挡破裂安全备降成都】今天上午6:26从重庆江北国际机场出发前往拉萨的四川...   \n",
       "4                   支持郑强！！！//【贵州大学校长回应空姐言论:常给她们写感谢信】   \n",
       "\n",
       "                                         content_seg  \n",
       "0  回复 新浪 网友 对 博文   国家文物局 限制 鉴宝 节目 现场 估价 转   的 评论 ...  \n",
       "1  分享 网易 新闻     发生 在 昆明 的 火锅店 老板   辱 滇门     云南 人该...  \n",
       "2                 西宁 城管 围殴 民警 扬言 要 把 警察 打死   西宁 城管 围  \n",
       "3  川航 航班 因 驾驶舱 风挡 破裂 安全 备降 成都   今天上午 6   26 从 重庆江...  \n",
       "4   支持 郑强             贵州大学 校长 回应 空姐 言论   常给 她们 写 感谢信  "
      ]
     },
     "execution_count": 9,
     "metadata": {},
     "output_type": "execute_result"
    }
   ],
   "source": [
    "# 将 content 分词\n",
    "train['content_seg'] = train['content'].apply(lambda x: \" \".join(seg_words(str(x))))\n",
    "test['content_seg'] = test['content'].apply(lambda x:\" \".join(seg_words(str(x))))\n",
    "train[['content', 'content_seg']].head()"
   ]
  },
  {
   "cell_type": "code",
   "execution_count": 10,
   "metadata": {},
   "outputs": [
    {
     "data": {
      "text/html": [
       "<div>\n",
       "<style scoped>\n",
       "    .dataframe tbody tr th:only-of-type {\n",
       "        vertical-align: middle;\n",
       "    }\n",
       "\n",
       "    .dataframe tbody tr th {\n",
       "        vertical-align: top;\n",
       "    }\n",
       "\n",
       "    .dataframe thead th {\n",
       "        text-align: right;\n",
       "    }\n",
       "</style>\n",
       "<table border=\"1\" class=\"dataframe\">\n",
       "  <thead>\n",
       "    <tr style=\"text-align: right;\">\n",
       "      <th></th>\n",
       "      <th>id</th>\n",
       "      <th>content</th>\n",
       "      <th>picture_lists</th>\n",
       "      <th>category</th>\n",
       "      <th>comment_2</th>\n",
       "      <th>comment_all</th>\n",
       "      <th>content_seg</th>\n",
       "    </tr>\n",
       "  </thead>\n",
       "  <tbody>\n",
       "    <tr>\n",
       "      <th>0</th>\n",
       "      <td>fb7abd30e64904d4aec80913f39c2a4d</td>\n",
       "      <td>因为带了口罩和害怕唾沫的关系，现在街上即便行人不少也基本只有脚步声，在打印店打印东西，店里同...</td>\n",
       "      <td>NaN</td>\n",
       "      <td>疫情</td>\n",
       "      <td>NaN</td>\n",
       "      <td>NaN</td>\n",
       "      <td>因为 带 了 口罩 和 害怕 唾沫 的 关系   现在 街上 即便 行人 不少 也 基本 只...</td>\n",
       "    </tr>\n",
       "    <tr>\n",
       "      <th>1</th>\n",
       "      <td>33862231893127fa396812b4fa9cc709</td>\n",
       "      <td>台词汇编457（@万善公）两周！/钟南山院士呼吁：解决疫情最快，成本最低的方式就是全中国人民...</td>\n",
       "      <td>NaN</td>\n",
       "      <td>疫情</td>\n",
       "      <td>NaN</td>\n",
       "      <td>NaN</td>\n",
       "      <td>台词 汇编 457     万善公   两周     钟南山 院士 呼吁   解决 疫情 最...</td>\n",
       "    </tr>\n",
       "    <tr>\n",
       "      <th>2</th>\n",
       "      <td>0fe350647b75a2729c9b6d5604fa4baa</td>\n",
       "      <td>从武汉撤回的日本人，迎接他们的是每人一台救护车，206人=206台救护车，进行隔离。这就是连...</td>\n",
       "      <td>NaN</td>\n",
       "      <td>疫情</td>\n",
       "      <td>NaN</td>\n",
       "      <td>NaN</td>\n",
       "      <td>从 武汉 撤回 的 日本 人   迎接 他们 的 是 每人 一台 救护车   206 人  ...</td>\n",
       "    </tr>\n",
       "    <tr>\n",
       "      <th>3</th>\n",
       "      <td>7de07ad7a1eacff14b0ab88303bde62b</td>\n",
       "      <td>武汉地铁。钟院士的防病毒高招:    各位去医院或其他公共场合之前用淡盐水漱一下咽喉部位，回...</td>\n",
       "      <td>NaN</td>\n",
       "      <td>疫情</td>\n",
       "      <td>NaN</td>\n",
       "      <td>NaN</td>\n",
       "      <td>武汉 地铁   钟 院士 的 防病毒 高招           各位 去 医院 或 其他 公...</td>\n",
       "    </tr>\n",
       "    <tr>\n",
       "      <th>4</th>\n",
       "      <td>73952631593ee8f33a9b42bd66caaf96</td>\n",
       "      <td>重要的事情说三遍！钟南山院士呼吁：   钟南山院士呼吁：        钟南山院士呼吁：​目...</td>\n",
       "      <td>NaN</td>\n",
       "      <td>疫情</td>\n",
       "      <td>NaN</td>\n",
       "      <td>NaN</td>\n",
       "      <td>重要 的 事情 说 三遍   钟南山 院士 呼吁         钟南山 院士 呼吁    ...</td>\n",
       "    </tr>\n",
       "  </tbody>\n",
       "</table>\n",
       "</div>"
      ],
      "text/plain": [
       "                                 id  \\\n",
       "0  fb7abd30e64904d4aec80913f39c2a4d   \n",
       "1  33862231893127fa396812b4fa9cc709   \n",
       "2  0fe350647b75a2729c9b6d5604fa4baa   \n",
       "3  7de07ad7a1eacff14b0ab88303bde62b   \n",
       "4  73952631593ee8f33a9b42bd66caaf96   \n",
       "\n",
       "                                             content picture_lists category  \\\n",
       "0  因为带了口罩和害怕唾沫的关系，现在街上即便行人不少也基本只有脚步声，在打印店打印东西，店里同...           NaN       疫情   \n",
       "1  台词汇编457（@万善公）两周！/钟南山院士呼吁：解决疫情最快，成本最低的方式就是全中国人民...           NaN       疫情   \n",
       "2  从武汉撤回的日本人，迎接他们的是每人一台救护车，206人=206台救护车，进行隔离。这就是连...           NaN       疫情   \n",
       "3  武汉地铁。钟院士的防病毒高招:    各位去医院或其他公共场合之前用淡盐水漱一下咽喉部位，回...           NaN       疫情   \n",
       "4  重要的事情说三遍！钟南山院士呼吁：   钟南山院士呼吁：        钟南山院士呼吁：​目...           NaN       疫情   \n",
       "\n",
       "  comment_2 comment_all                                        content_seg  \n",
       "0       NaN         NaN  因为 带 了 口罩 和 害怕 唾沫 的 关系   现在 街上 即便 行人 不少 也 基本 只...  \n",
       "1       NaN         NaN  台词 汇编 457     万善公   两周     钟南山 院士 呼吁   解决 疫情 最...  \n",
       "2       NaN         NaN  从 武汉 撤回 的 日本 人   迎接 他们 的 是 每人 一台 救护车   206 人  ...  \n",
       "3       NaN         NaN  武汉 地铁   钟 院士 的 防病毒 高招           各位 去 医院 或 其他 公...  \n",
       "4       NaN         NaN  重要 的 事情 说 三遍   钟南山 院士 呼吁         钟南山 院士 呼吁    ...  "
      ]
     },
     "execution_count": 10,
     "metadata": {},
     "output_type": "execute_result"
    }
   ],
   "source": [
    "test.head()"
   ]
  },
  {
   "cell_type": "code",
   "execution_count": 11,
   "metadata": {},
   "outputs": [],
   "source": [
    "# 这里是训练集和测试集都要做处理\n",
    "\n",
    "train[\"content_comment_2c_seg\"] = (\n",
    "    train[\"content\"].astype(str) + train[\"comment_2c\"].astype(str)\n",
    ").apply(lambda x: \" \".join(seg_words(str(x))))\n",
    "\n",
    "train[\"content_comment_all_seg\"] = (\n",
    "    train[\"content\"].astype(str) + train[\"comment_all\"].astype(str)\n",
    ").apply(lambda x: \" \".join(seg_words(str(x))))\n",
    "\n",
    "test[\"content_comment_2c_seg\"] = (\n",
    "    test[\"content\"].astype(str) + test[\"comment_2\"].astype(str)\n",
    ").apply(\n",
    "    lambda x: \" \".join(seg_words(str(x)))\n",
    ")  # 变量名和train不一样\n",
    "test[\"content_comment_all_seg\"] = (\n",
    "    test[\"content\"].astype(str) + test[\"comment_all\"].astype(str)\n",
    ").apply(lambda x: \" \".join(seg_words(str(x))))"
   ]
  },
  {
   "cell_type": "code",
   "execution_count": null,
   "metadata": {},
   "outputs": [],
   "source": [
    "def preprocess(train_seg, test_seg, num_words = 10000):\n",
    "    '''\n",
    "        train_seg\n",
    "    '''\n",
    "    maxlen = train_seg.apply(lambda x:len(x)).max() # 最长有多少词\n",
    "    tokenizer = tf.keras.preprocessing.text.Tokenizer(num_words= num_words)#tokenizer分词器类\n",
    "    tokenizer.fit_on_texts(train_seg) # 词条化，生成文本词典\n",
    "    sequences_train = tokenizer.texts_to_sequences(train_seg) #把句子转化为单词序列，这里已经编码了\n",
    "    train_sequence_pad = tf.keras.preprocessing.sequence.pad_sequences(sequences_train, maxlen= maxlen, value = 0.0)\n",
    "    #补齐，因为keras只能输入等长序列\n",
    "    #按照最大的长度进行补齐\n",
    "    word_index = tokenizer.word_index # word_index: 字典，将单词（字符串）映射为它们的排名或者索引。仅在调用fit_on_texts之后设置。\n",
    "   # word_index_inversed = {v:k for k,v in word_index.items()}\n",
    "    print('train_sequence_pad shape:',train_sequence_pad.shape)\n",
    "    # 处理test\n",
    "    sequences_test = tokenizer.texts_to_sequences(test_seg)\n",
    "    test_sequence_pad = tf.keras.preprocessing.sequence.pad_sequences(sequences_test, maxlen= maxlen, value = 0.0)\n",
    "    print('test_sequence_pad shape:',test_sequence_pad.shape)\n",
    "    return train_sequence_pad, test_sequence_pad, word_index"
   ]
  },
  {
   "cell_type": "code",
   "execution_count": null,
   "metadata": {},
   "outputs": [],
   "source": [
    "# 处理content\n",
    "(\n",
    "    train_content_sequence_pad,\n",
    "    test_content_sequence_pad,\n",
    "    word_index_cotent,\n",
    ") = preprocess(train_seg=train[\"content_seg\"], test_seg=test[\"content_seg\"])"
   ]
  },
  {
   "cell_type": "code",
   "execution_count": null,
   "metadata": {},
   "outputs": [],
   "source": [
    "# 处理content + comment_2c\n",
    "(\n",
    "    train_content_comment_2c_sequence_pad,\n",
    "    test_content_comment_2c_sequence_pad,\n",
    "    word_index_with_comment_2c,\n",
    ") = preprocess(\n",
    "    train_seg=train[\"content_comment_2c_seg\"], test_seg=test[\"content_comment_2c_seg\"]\n",
    ")"
   ]
  },
  {
   "cell_type": "code",
   "execution_count": null,
   "metadata": {},
   "outputs": [],
   "source": [
    "# 处理content + comment_all\n",
    "(\n",
    "    train_content_comment_all_sequence_pad,\n",
    "    test_content__comment_all_sequence_pad,\n",
    "    word_index_with_comment_all,\n",
    ") = preprocess(\n",
    "    train_seg=train[\"content_comment_all_seg\"], test_seg=test[\"content_comment_all_seg\"]\n",
    ")"
   ]
  },
  {
   "cell_type": "code",
   "execution_count": null,
   "metadata": {},
   "outputs": [],
   "source": [
    "word_index_cotent"
   ]
  },
  {
   "cell_type": "code",
   "execution_count": null,
   "metadata": {},
   "outputs": [],
   "source": [
    "\n",
    "np.save( '../data/train_content_sequence_pad.npy',train_content_sequence_pad)\n",
    "np.save(\"../data/test_content_sequence_pad.npy\", test_content_sequence_pad)\n",
    "np.save( \"../data/train_label.npy\",train[\"label\"].to_numpy())"
   ]
  },
  {
   "cell_type": "code",
   "execution_count": null,
   "metadata": {},
   "outputs": [],
   "source": [
    "np.save( \"../data/test_text.npy\", test[\"content_seg\"].to_numpy())\n",
    "np.save( \"../data/train_text.npy\",\n",
    "    train[\n",
    "        [\"content_seg\", \"content_comment_2c_seg\", \"content_comment_all_seg\"]\n",
    "    ].to_numpy(),\n",
    ")"
   ]
  },
  {
   "cell_type": "code",
   "execution_count": null,
   "metadata": {},
   "outputs": [],
   "source": [
    "train[\"label\"].to_numpy()"
   ]
  },
  {
   "cell_type": "code",
   "execution_count": null,
   "metadata": {},
   "outputs": [],
   "source": [
    "import pandas as pd\n",
    "import numpy as np\n",
    "import tensorflow as tf\n",
    "import os\n",
    "from matplotlib.pyplot import imshow"
   ]
  },
  {
   "cell_type": "code",
   "execution_count": null,
   "metadata": {},
   "outputs": [],
   "source": [
    "data_dir = '../data/'\n",
    "train_images_dir = data_dir + '/train_images/' #这也是一种设置路径的方法，可以记住\n",
    "test_images_dir = data_dir + '/test_images/'\n",
    "train_file = data_dir + '/train.csv'\n",
    "test_file = data_dir + '/test_dataset.csv'\n",
    "\n",
    "train_images_filenames = [train_images_dir + filename for filename in os.listdir(train_images_dir)]\n",
    "test_images_filenames = [test_images_dir + filename for filename in os.listdir(test_images_dir)]\n",
    "\n",
    "#tfrecord_file = data_dir + '/train/train.tfrecords'\n",
    "# train_filenames = train_cat_filenames + train_dog_filenames\n",
    "\n",
    "FIG_SIZE = (10,10)"
   ]
  },
  {
   "cell_type": "code",
   "execution_count": null,
   "metadata": {},
   "outputs": [],
   "source": [
    "\n",
    "def preprocess_image(image, target_fig_size):\n",
    "    '''\n",
    "        input: image对象,通过tf.io.read_file读入\n",
    "        ouput:返回一个tftensor\n",
    "        help(tf.image.decode_image),自动识别图片类型，gif返回num_frames, height, width, 3], 其他返回[height, width, num_channels]\n",
    "        gif = tf.io.read_file('E:/dataset/2019-nCoV/competition/fake_news/train_images/02b6176b5e8dcd910112b2b63eb3f8bb.gif')\n",
    "        gif_tensor = tf.image.decode_image(gif, channels=3) 只取了第一帧\n",
    "        gif_tensor.shape # \n",
    "    '''\n",
    "    img_tensor = tf.image.decode_image(image, channels=3)\n",
    "    img_final = tf.image.resize(img_tensor, [*target_fig_size])\n",
    "    img_final /= 255.0  # normalize to [0,1] range\n",
    "    return img_final\n",
    "\n",
    "def load_and_preprocess_image(path, target_fig_size):\n",
    "    image = tf.io.read_file(path)\n",
    "    return preprocess_image(image,target_fig_size)"
   ]
  },
  {
   "cell_type": "code",
   "execution_count": null,
   "metadata": {},
   "outputs": [],
   "source": [
    "FIG_SIZE = (10,10)"
   ]
  },
  {
   "cell_type": "code",
   "execution_count": null,
   "metadata": {},
   "outputs": [],
   "source": [
    "#非常慢\n",
    "feature = tf.constant([], shape= [0,*FIG_SIZE,3],dtype='float32')\n",
    "count = []# 不可以写成 tf.float64?\n",
    "for i in range(train.shape[0]):\n",
    "    # 如果没有图片，就补充一个1，FIG_SIZE,3形状的全零张量\n",
    "    if i in train.loc[train.picture_lists.isna()].index:\n",
    "        zero_tensor= tf.zeros([1,*FIG_SIZE,3])\n",
    "        feature= tf.concat((feature,zero_tensor),axis = 0)\n",
    "        print(train.loc[i,'picture_lists'])\n",
    "        print(i,'done zero')\n",
    "        count.append(i)\n",
    "    else:\n",
    "        # 如果有图片，只取第一张图片进行处理\n",
    "        first_image_name = train.loc[i,'picture_lists'].split('\\t')[0]\n",
    "        first_image_path = train_images_dir + first_image_name\n",
    "        try:\n",
    "            print(i,first_image_path)\n",
    "            tf_tensor = load_and_preprocess_image(first_image_path, FIG_SIZE)\n",
    "            tf_tensor= tf.reshape(tf_tensor,[1,*FIG_SIZE, 3])\n",
    "            feature= tf.concat((feature,tf_tensor),axis = 0)\n",
    "            print(i,'done jpg')\n",
    "            count.append(i)\n",
    "        except:\n",
    "            feature= tf.concat((feature,zero_tensor),axis = 0)\n",
    "            print(i,first_image_path)\n",
    "            print(i,'done other')\n",
    "            count.append(i)"
   ]
  },
  {
   "cell_type": "code",
   "execution_count": null,
   "metadata": {},
   "outputs": [],
   "source": [
    "np.save('../data/train_image_feature.npy', feature)"
   ]
  },
  {
   "cell_type": "code",
   "execution_count": null,
   "metadata": {},
   "outputs": [],
   "source": [
    "test_feature = tf.constant([], shape= [0,*FIG_SIZE,3],dtype='float32')\n",
    "count = []# 不可以写成 tf.float64?\n",
    "for i in range(test.shape[0]):\n",
    "    # 如果没有图片，就补充一个1，FIG_SIZE,3形状的全零张量\n",
    "    if i in test.loc[test.picture_lists.isna()].index:\n",
    "        zero_tensor= tf.zeros([1,*FIG_SIZE,3])\n",
    "        test_feature= tf.concat((test_feature,zero_tensor),axis = 0)\n",
    "        print(i,test.loc[i,'picture_lists'])\n",
    "        count.append(i)\n",
    "    else:\n",
    "        # 如果有图片，只取第一张图片进行处理\n",
    "        first_image_name = test.loc[i,'picture_lists'].split('\\t')[0]\n",
    "        first_image_path = test_images_dir + first_image_name\n",
    "        try:\n",
    "            tf_tensor = load_and_preprocess_image(first_image_path, FIG_SIZE)\n",
    "            tf_tensor= tf.reshape(tf_tensor,[1,*FIG_SIZE, 3])\n",
    "            test_feature= tf.concat((test_feature,tf_tensor),axis = 0)\n",
    "            print(i,first_image_path)\n",
    "            count.append(i)\n",
    "        except:\n",
    "            test_feature= tf.concat((test_feature,zero_tensor),axis = 0)\n",
    "            print(i,first_image_path)\n",
    "            count.append(i)"
   ]
  },
  {
   "cell_type": "code",
   "execution_count": null,
   "metadata": {},
   "outputs": [],
   "source": [
    "np.save('../data/test_image_feature.npy',test_feature)"
   ]
  },
  {
   "cell_type": "code",
   "execution_count": null,
   "metadata": {},
   "outputs": [],
   "source": [
    "# 保存train label：'ncw_label','fake_label','real_label'\n",
    "np.save( '../data/train_labels.npy', train[['ncw_label','fake_label','real_label']].to_numpy()) # train_label 是 one-hot形式的"
   ]
  },
  {
   "cell_type": "markdown",
   "metadata": {},
   "source": [
    "## 建模部分"
   ]
  },
  {
   "cell_type": "code",
   "execution_count": null,
   "metadata": {},
   "outputs": [],
   "source": [
    "import numpy as np\n",
    "import pandas as pd\n",
    "import tensorflow as tf\n",
    "from tensorflow import keras\n",
    "import matplotlib.pyplot as plt\n",
    "import os\n",
    "from sklearn.model_selection import train_test_split\n",
    "import jieba\n",
    "import re\n",
    "import time"
   ]
  },
  {
   "cell_type": "code",
   "execution_count": null,
   "metadata": {},
   "outputs": [],
   "source": [
    "df=pd.read_csv('../data/train.csv')\n",
    "df.head()"
   ]
  },
  {
   "cell_type": "code",
   "execution_count": null,
   "metadata": {},
   "outputs": [],
   "source": [
    "import jieba\n",
    "df['content'] = df.content.apply(lambda x: \" \".join(jieba.cut(x))) \n",
    "df.head()"
   ]
  },
  {
   "cell_type": "code",
   "execution_count": 12,
   "metadata": {},
   "outputs": [],
   "source": [
    "df1 = df[['content', 'ncw_label','fake_label','real_label']]"
   ]
  },
  {
   "cell_type": "code",
   "execution_count": null,
   "metadata": {},
   "outputs": [],
   "source": [
    "from keras.preprocessing.text import Tokenizer\n",
    "from keras.preprocessing.sequence import pad_sequences\n",
    "import numpy as np"
   ]
  },
  {
   "cell_type": "code",
   "execution_count": null,
   "metadata": {},
   "outputs": [],
   "source": [
    "maxlen = 100\n",
    "max_words = 10000"
   ]
  },
  {
   "cell_type": "code",
   "execution_count": null,
   "metadata": {},
   "outputs": [],
   "source": [
    "tokenizer = Tokenizer(num_words=max_words)\n",
    "tokenizer.fit_on_texts(df1.content)\n",
    "sequences = tokenizer.texts_to_sequences(df1.content)\n",
    "word_index = tokenizer.word_index\n",
    "data = pad_sequences(sequences, maxlen=maxlen)\n",
    "labels = np.array(df1[['ncw_label','fake_label','real_label']])"
   ]
  },
  {
   "cell_type": "code",
   "execution_count": null,
   "metadata": {},
   "outputs": [],
   "source": [
    "indices = np.arange(data.shape[0])\n",
    "np.random.shuffle(indices)\n",
    "data = data[indices]\n",
    "labels = labels[indices]\n",
    "training_samples = int(len(indices) * .8)\n",
    "validation_samples = len(indices) - training_samples\n",
    "X_train = data[:training_samples]\n",
    "y_train = labels[:training_samples]\n",
    "X_valid = data[training_samples: training_samples + validation_samples]\n",
    "y_valid = labels[training_samples: training_samples + validation_samples]"
   ]
  },
  {
   "cell_type": "code",
   "execution_count": null,
   "metadata": {},
   "outputs": [],
   "source": [
    "#!pip install gensim"
   ]
  },
  {
   "cell_type": "code",
   "execution_count": null,
   "metadata": {},
   "outputs": [],
   "source": [
    "from gensim.models import KeyedVectors"
   ]
  },
  {
   "cell_type": "markdown",
   "metadata": {},
   "source": [
    "### 加载与训练好的词向量"
   ]
  },
  {
   "cell_type": "code",
   "execution_count": null,
   "metadata": {},
   "outputs": [],
   "source": [
    "zh_model = KeyedVectors.load_word2vec_format('../data/zh.vec')\n",
    "len(zh_model[next(iter(zh_model.vocab))])"
   ]
  },
  {
   "cell_type": "code",
   "execution_count": null,
   "metadata": {},
   "outputs": [],
   "source": [
    "embedding_dim = len(zh_model[next(iter(zh_model.vocab))])\n",
    "embedding_matrix = np.random.rand(max_words, embedding_dim)\n",
    "embedding_matrix = (embedding_matrix - 0.5) * 2"
   ]
  },
  {
   "cell_type": "code",
   "execution_count": null,
   "metadata": {},
   "outputs": [],
   "source": [
    "for word, i in word_index.items():\n",
    "    if i < max_words:\n",
    "        try:\n",
    "          embedding_vector = zh_model.get_vector(word)\n",
    "          embedding_matrix[i] = embedding_vector\n",
    "        except:\n",
    "          pass\n",
    "            "
   ]
  },
  {
   "cell_type": "markdown",
   "metadata": {},
   "source": [
    "### LSTM提取文本特征"
   ]
  },
  {
   "cell_type": "code",
   "execution_count": null,
   "metadata": {},
   "outputs": [],
   "source": [
    "from keras.models import Sequential\n",
    "from keras.layers import Embedding, Flatten, Dense, LSTM,Dropout\n",
    "\n",
    "units = 32\n",
    "\n",
    "model = Sequential()\n",
    "model.add(Embedding(max_words, embedding_dim))\n",
    "model.add(LSTM(units))\n",
    "model.add(Dropout(0.2))\n",
    "model.add(Dense(24,activation='relu'))\n",
    "model.add(Dropout(0.2))\n",
    "model.add(Dense(3, activation='softmax'))\n",
    "\n",
    "model.layers[0].set_weights([embedding_matrix])\n",
    "model.layers[0].trainable = False\n",
    "model.summary()\n",
    "\n"
   ]
  },
  {
   "cell_type": "code",
   "execution_count": null,
   "metadata": {},
   "outputs": [],
   "source": [
    "%%time\n",
    "model.compile(optimizer='rmsprop',\n",
    "              loss='categorical_crossentropy',\n",
    "              metrics=['acc'])\n",
    "early_stop = tf.keras.callbacks.EarlyStopping(monitor='val_acc', patience=10)\n",
    "history = model.fit(X_train, y_train,\n",
    "                    epochs=30,\n",
    "                    batch_size=32,\n",
    "                    validation_split=0.2,callbacks=[early_stop])\n",
    "model.save(\"mymodel.h5\")"
   ]
  },
  {
   "cell_type": "code",
   "execution_count": null,
   "metadata": {},
   "outputs": [],
   "source": [
    "import matplotlib.pyplot as plt\n",
    "\n",
    "acc = history.history['acc']\n",
    "val_acc = history.history['val_acc']\n",
    "loss = history.history['loss']\n",
    "val_loss = history.history['val_loss']\n",
    "\n",
    "epochs = range(1, len(acc) + 1)\n",
    "\n",
    "plt.plot(epochs, acc, label='Training acc')\n",
    "plt.plot(epochs, val_acc, 'b', label='Validation acc')\n",
    "plt.title('Training and validation accuracy')\n",
    "plt.legend()\n",
    "\n",
    "plt.figure()\n",
    "\n",
    "plt.plot(epochs, loss, label='Training loss')\n",
    "plt.plot(epochs, val_loss, 'b', label='Validation loss')\n",
    "plt.title('Training and validation loss')\n",
    "plt.legend()\n",
    "\n",
    "plt.show()"
   ]
  },
  {
   "cell_type": "code",
   "execution_count": null,
   "metadata": {},
   "outputs": [],
   "source": [
    "train_image_feature = np.load( '../data/train_image_feature.npy', allow_pickle=True)\n",
    "#test_image_feature = np.load('../data/test_image_feature.npy', allow_pickle=True)"
   ]
  },
  {
   "cell_type": "code",
   "execution_count": null,
   "metadata": {},
   "outputs": [],
   "source": [
    "#加载预训练模型\n",
    "train_content_sequence = keras.Input(\n",
    "    shape=(100,)\n",
    ")  # Variable-length sequence of ints\n",
    "Embedding_layer = keras.layers.Embedding(\n",
    "    max_words, embedding_dim, weights=[embedding_matrix], trainable=False\n",
    ")(train_content_sequence)"
   ]
  },
  {
   "cell_type": "code",
   "execution_count": null,
   "metadata": {},
   "outputs": [],
   "source": [
    "lstm_text=tf.keras.layers.LSTM(16)(Embedding_layer)\n",
    "lstm_text= tf.keras.layers.Dense(8,activation='relu')(lstm_text)\n",
    "lstm_test_pr=tf.keras.layers.Dense(3,activation=\"softmax\")(lstm_text)\n",
    "text_model= keras.Model(inputs=train_content_sequence, outputs=lstm_test_pr)"
   ]
  },
  {
   "cell_type": "code",
   "execution_count": null,
   "metadata": {},
   "outputs": [],
   "source": [
    "### CNN提取图片特征"
   ]
  },
  {
   "cell_type": "code",
   "execution_count": null,
   "metadata": {},
   "outputs": [],
   "source": [
    "image_input = keras.Input(shape=(10, 10, 3))  \n",
    "#image_feature = keras.layers.Dropout(0.2)(image_input)\n",
    "image_feature = keras.layers.Conv2D(15, kernel_size = 2, padding=\"same\",activation = 'relu')(image_input)\n",
    "image_feature = keras.layers.Dropout(0.2)(image_feature)\n",
    "image_feature = keras.layers.Conv2D(5, kernel_size = 2, activation = 'relu')(image_feature)\n",
    "image_feature = keras.layers.Dropout(0.2)(image_feature)\n",
    "image_feature = keras.layers.Conv2D(5, kernel_size = 2, activation = 'relu')(image_feature)\n",
    "image_feature = keras.layers.Dropout(0.2)(image_feature)\n",
    "#image_feature = keras.layers.MaxPooling2D(2)(image_feature)\n",
    "image_feature = keras.layers.Flatten()(image_feature)"
   ]
  },
  {
   "cell_type": "code",
   "execution_count": null,
   "metadata": {},
   "outputs": [],
   "source": [
    "x = keras.layers.Dense(8, activation=\"relu\")(image_feature)\n",
    "x = keras.layers.Dropout(0.2)(x)\n",
    "#x = keras.layers.Dense(8, activation=\"relu\")(x)\n",
    "im_pred = keras.layers.Dense(3, activation=\"softmax\", name=\"pred\")(x)\n",
    "img_model=keras.Model(inputs=image_input, outputs=im_pred)\n",
    "img_model.summary()"
   ]
  },
  {
   "cell_type": "markdown",
   "metadata": {},
   "source": [
    "### 文本与图片融合多模态"
   ]
  },
  {
   "cell_type": "code",
   "execution_count": null,
   "metadata": {},
   "outputs": [],
   "source": [
    "# Combine wide and deep into one model\n",
    "merged_out = keras.layers.concatenate([text_model.output, img_model.output])\n",
    "merged_out=keras.layers.Dropout(0.2)(merged_out)\n",
    "merged_out =keras.layers.Dense(3, activation='softmax')(merged_out)\n",
    "\n",
    "combined_model = keras.Model([text_model.input,img_model.input], merged_out)\n",
    "print(combined_model.summary())\n",
    "\n",
    "combined_model.compile(optimizer=keras.optimizers.RMSprop(1e-3),\n",
    "              loss=keras.losses.CategoricalCrossentropy(from_logits=True),\n",
    "              metrics=['accuracy'])"
   ]
  },
  {
   "cell_type": "code",
   "execution_count": null,
   "metadata": {},
   "outputs": [],
   "source": [
    "import time\n",
    "%%time\n",
    "early_stop = tf.keras.callbacks.EarlyStopping(monitor='accuracy', patience=10)\n",
    "history =  combined_model.fit([data, train_image_feature],\n",
    "                    labels, epochs=30, batch_size=32, validation_split=0.2,verbose=1,callbacks= [early_stop])"
   ]
  },
  {
   "cell_type": "code",
   "execution_count": null,
   "metadata": {},
   "outputs": [],
   "source": [
    "import matplotlib.pyplot as plt\n",
    "\n",
    "acc = history.history['accuracy']\n",
    "val_acc = history.history['val_accuracy']\n",
    "loss = history.history['loss']\n",
    "val_loss = history.history['val_loss']\n",
    "\n",
    "epochs = range(1, len(acc) + 1)\n",
    "\n",
    "plt.plot(epochs, acc, label='Training acc')\n",
    "plt.plot(epochs, val_acc, 'b', label='Validation acc')\n",
    "plt.title('Training and validation accuracy')\n",
    "plt.legend()\n",
    "\n",
    "plt.figure()\n",
    "\n",
    "plt.plot(epochs, loss, label='Training loss')\n",
    "plt.plot(epochs, val_loss, 'b', label='Validation loss')\n",
    "plt.title('Training and validation loss')\n",
    "plt.legend()\n",
    "\n",
    "plt.show()"
   ]
  },
  {
   "cell_type": "code",
   "execution_count": null,
   "metadata": {},
   "outputs": [],
   "source": [
    "###  BiLSTM+ATTENTION多模态"
   ]
  },
  {
   "cell_type": "code",
   "execution_count": null,
   "metadata": {},
   "outputs": [],
   "source": [
    "from keras.layers import Bidirectional\n",
    "lstm_text1=keras.layers.Bidirectional(keras.layers.LSTM(16))(Embedding_layer)\n",
    "lstm_text1= keras.layers.Dense(8,activation='relu')(lstm_text1)\n",
    "attention=keras.layers.Attention(use_scale=False)([lstm_text1,lstm_text1])\n",
    "Input_layer=tf.keras.layers.Concatenate()([lstm_text1, attention])\n",
    "lstm_test_pr=keras.layers.Dense(3,activation=\"softmax\")(lstm_text1)\n",
    "text_model1= keras.Model(inputs=train_content_sequence ,outputs=lstm_test_pr)\n",
    "text_model1.summary()"
   ]
  },
  {
   "cell_type": "code",
   "execution_count": null,
   "metadata": {},
   "outputs": [],
   "source": [
    "image_input = keras.Input(shape=(10, 10, 3))  \n",
    "#image_feature = keras.layers.Dropout(0.2)(image_input)\n",
    "image_feature = keras.layers.Conv2D(15, kernel_size = 2, padding=\"same\",activation = 'relu')(image_input)\n",
    "image_feature = keras.layers.Dropout(0.2)(image_feature)\n",
    "image_feature = keras.layers.Conv2D(5, kernel_size = 2, activation = 'relu')(image_feature)\n",
    "image_feature = keras.layers.Dropout(0.2)(image_feature)\n",
    "image_feature = keras.layers.Conv2D(5, kernel_size = 2, activation = 'relu')(image_feature)\n",
    "image_feature = keras.layers.Dropout(0.2)(image_feature)\n",
    "image_feature = keras.layers.MaxPooling2D(2)(image_feature)\n",
    "image_feature = keras.layers.Flatten()(image_feature)\n",
    "x = keras.layers.Dense(8, activation=\"relu\")(image_feature)\n",
    "x = keras.layers.Dropout(0.2)(x)\n",
    "#x = keras.layers.Dense(8, activation=\"relu\")(x)\n",
    "im_pred = keras.layers.Dense(3, activation=\"softmax\", name=\"pred\")(x)\n",
    "img_model=keras.Model(inputs=image_input, outputs=im_pred)\n",
    "img_model.summary()"
   ]
  },
  {
   "cell_type": "code",
   "execution_count": null,
   "metadata": {},
   "outputs": [],
   "source": [
    "# Combine wide and deep into one model\n",
    "merged_out = keras.layers.concatenate([text_model1.output, img_model.output])\n",
    "merged_out =keras.layers.Dense(3, activation='softmax')(merged_out)\n",
    "combined_model = keras.Model([text_model1.input,img_model.input], merged_out)\n",
    "print(combined_model.summary())\n",
    "\n",
    "combined_model.compile(optimizer=keras.optimizers.RMSprop(1e-3),\n",
    "              loss=keras.losses.CategoricalCrossentropy(from_logits=True),\n",
    "              metrics=['accuracy'])"
   ]
  },
  {
   "cell_type": "code",
   "execution_count": null,
   "metadata": {},
   "outputs": [],
   "source": [
    "%%time\n",
    "early_stop = tf.keras.callbacks.EarlyStopping(monitor='accuracy', patience=10)\n",
    "history =  combined_model.fit([data, train_image_feature],\n",
    "                    labels, epochs=30, batch_size=32, validation_split=0.2,verbose=1,callbacks= [early_stop])"
   ]
  },
  {
   "cell_type": "code",
   "execution_count": null,
   "metadata": {},
   "outputs": [],
   "source": [
    "import matplotlib.pyplot as plt\n",
    "\n",
    "acc = history.history['accuracy']\n",
    "val_acc = history.history['val_accuracy']\n",
    "loss = history.history['loss']\n",
    "val_loss = history.history['val_loss']\n",
    "\n",
    "epochs = range(1, len(acc) + 1)\n",
    "\n",
    "plt.plot(epochs, acc, label='Training acc')\n",
    "plt.plot(epochs, val_acc, 'b', label='Validation acc')\n",
    "plt.title('Training and validation accuracy')\n",
    "plt.legend()\n",
    "\n",
    "plt.figure()\n",
    "\n",
    "plt.plot(epochs, loss, label='Training loss')\n",
    "plt.plot(epochs, val_loss, 'b', label='Validation loss')\n",
    "plt.title('Training and validation loss')\n",
    "plt.legend()\n",
    "\n",
    "plt.show()"
   ]
  },
  {
   "cell_type": "code",
   "execution_count": null,
   "metadata": {},
   "outputs": [],
   "source": []
  }
 ],
 "metadata": {
  "kernelspec": {
   "display_name": "Python 3",
   "language": "python",
   "name": "python3"
  },
  "language_info": {
   "codemirror_mode": {
    "name": "ipython",
    "version": 3
   },
   "file_extension": ".py",
   "mimetype": "text/x-python",
   "name": "python",
   "nbconvert_exporter": "python",
   "pygments_lexer": "ipython3",
   "version": "3.6.9"
  }
 },
 "nbformat": 4,
 "nbformat_minor": 2
}
